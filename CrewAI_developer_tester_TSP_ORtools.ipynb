{
  "nbformat": 4,
  "nbformat_minor": 0,
  "metadata": {
    "colab": {
      "provenance": [],
      "authorship_tag": "ABX9TyOOyWwZZyupiDmGdvZWNC3/",
      "include_colab_link": true
    },
    "kernelspec": {
      "name": "python3",
      "display_name": "Python 3"
    },
    "language_info": {
      "name": "python"
    }
  },
  "cells": [
    {
      "cell_type": "markdown",
      "metadata": {
        "id": "view-in-github",
        "colab_type": "text"
      },
      "source": [
        "<a href=\"https://colab.research.google.com/github/zarifemrah/crewAI/blob/main/CrewAI_developer_tester_TSP_ORtools.ipynb\" target=\"_parent\"><img src=\"https://colab.research.google.com/assets/colab-badge.svg\" alt=\"Open In Colab\"/></a>"
      ]
    },
    {
      "cell_type": "markdown",
      "source": [
        "## 1. Setup and Tool Definition\n",
        "\n",
        "First, we set up the environment and define a custom CodeExecutionTool. This tool is essential as it gives our testing agent the ability to run the Python code provided by the developer agent and capture any output or errors."
      ],
      "metadata": {
        "id": "E52XbNcd_2EE"
      }
    },
    {
      "cell_type": "code",
      "execution_count": null,
      "metadata": {
        "id": "OdQ-d8lm_wLB"
      },
      "outputs": [],
      "source": [
        "!pip install crewai crewai_tools ortools"
      ]
    },
    {
      "cell_type": "code",
      "source": [
        "import os\n",
        "from google.colab import userdata\n",
        "from crewai import Agent, Task, Crew, Process\n",
        "from crewai.tools import BaseTool\n",
        "import io\n",
        "from contextlib import redirect_stdout, redirect_stderr\n",
        "\n",
        "# Set up your OpenAI API key from Colab Secrets\n",
        "# 1. Click the key icon (🔑) on the left sidebar\n",
        "# 2. Add a new secret with the name \"OPENAI_API_KEY\" and your key as the value\n",
        "os.environ[\"OPENAI_API_KEY\"] = userdata.get('OPENAI_API_KEY')\n",
        "\n",
        "# Define the custom tool for code execution ⚙️\n",
        "class CodeExecutionTool(BaseTool):\n",
        "    name: str = \"Code Execution Tool\"\n",
        "    description: str = \"Executes Python code and returns the output or error. Input should be a string of Python code.\"\n",
        "\n",
        "    def _run(self, code: str) -> str:\n",
        "        # Use io.StringIO to capture print outputs\n",
        "        output_buffer = io.StringIO()\n",
        "        error_buffer = io.StringIO()\n",
        "\n",
        "        try:\n",
        "            # Redirect stdout and stderr to capture the execution results\n",
        "            with redirect_stdout(output_buffer), redirect_stderr(error_buffer):\n",
        "                # Execute the code\n",
        "                exec(code, {})\n",
        "\n",
        "            # Get the captured output and errors\n",
        "            output = output_buffer.getvalue().strip()\n",
        "            error = error_buffer.getvalue().strip()\n",
        "\n",
        "            if error:\n",
        "                return f\"Execution failed with error: {error}\"\n",
        "            elif output:\n",
        "                return f\"Execution successful with output: {output}\"\n",
        "            else:\n",
        "                return \"Execution successful with no output.\"\n",
        "\n",
        "        except Exception as e:\n",
        "            return f\"An exception occurred during execution: {str(e)}\"\n",
        "\n",
        "# Instantiate the tool for the tester agent\n",
        "code_executor = CodeExecutionTool()"
      ],
      "metadata": {
        "id": "olOEy3CoAcJl"
      },
      "execution_count": null,
      "outputs": []
    },
    {
      "cell_type": "markdown",
      "source": [
        "## 2. Define Agents and Tasks\n",
        "\n",
        "Next, we define the two agents: the developer and the tester. The tester agent will be equipped with the CodeExecutionTool we just created. The tasks are designed so that the testing task uses the output of the coding task."
      ],
      "metadata": {
        "id": "G7VygqGRBGbx"
      }
    },
    {
      "cell_type": "code",
      "source": [
        "# New user-defined algorithm for TSP using an optimization package\n",
        "algorithm_description = (\n",
        "    \"Create a Python function that solves the Traveling Salesman Problem (TSP) using the \"\n",
        "    \"Google OR-Tools library. \"\n",
        "    \"\\n\\nThe function should be named `solve_tsp_ortools` and take one argument:\"\n",
        "    \"\\n1. `distance_matrix`: A 2D list representing the distances between cities.\"\n",
        "    \"\\n\\nThe implementation must use `ortools.constraint_solver.pywrapcp` to create a routing model, \"\n",
        "    \"find the optimal solution, and return a tuple containing:\"\n",
        "    \"\\n1. `path`: A list of city indices for the optimal tour, starting and ending at city 0.\"\n",
        "    \"\\n2. `distance`: The total distance of the optimal tour.\"\n",
        "    \"\\n\\nInclude a test case that calls the function with a sample distance matrix and prints the resulting path and distance.\"\n",
        ")\n",
        "\n",
        "# Define the Developer Agent 🧑‍💻\n",
        "developer = Agent(\n",
        "    role='Senior Python Developer',\n",
        "    goal=f'Write clean, efficient, and error-free Python code for the following task: {algorithm_description}.',\n",
        "    backstory=(\n",
        "        \"You are an experienced Python developer with a knack for writing robust and elegant code. \"\n",
        "        \"You receive algorithm descriptions and turn them into functional Python scripts. \"\n",
        "        \"When you receive feedback or errors, you diligently debug and refactor your code to meet the requirements.\"\n",
        "    ),\n",
        "    verbose=True,\n",
        "    allow_delegation=False\n",
        ")\n",
        "\n",
        "# Define the Tester Agent 🧪\n",
        "tester = Agent(\n",
        "    role='Software Quality Assurance Engineer',\n",
        "    goal='Test the Python code provided by the developer. Identify any bugs, runtime errors, or logical flaws. Provide clear, concise feedback for fixes.',\n",
        "    backstory=(\n",
        "        \"You are a meticulous QA engineer with a sharp eye for detail. Your job is to take Python scripts, \"\n",
        "        \"run them using your execution tool, and rigorously test them. If you find any issue, \"\n",
        "        \"you report it back to the developer with the error message and suggestions for how to fix it.\"\n",
        "    ),\n",
        "    tools=[code_executor], # Assign the execution tool to the tester\n",
        "    verbose=True,\n",
        "    allow_delegation=True # IMPORTANT: Allows the tester to delegate back to the developer\n",
        ")\n",
        "\n",
        "# Define the Tasks\n",
        "coding_task = Task(\n",
        "    description=f\"Write a Python script that implements the following: {algorithm_description}. Your final output must be ONLY the complete, runnable Python code.\",\n",
        "    expected_output=\"A single block of clean, executable Python code that defines the `solve_tsp_ortools` function, imports necessary OR-Tools modules, and includes a test case.\",\n",
        "    agent=developer\n",
        ")\n",
        "\n",
        "testing_task = Task(\n",
        "    description=(\n",
        "        \"You are responsible for testing the Python code for the Traveling Salesman Problem that uses the OR-Tools library. \"\n",
        "        \"Use your 'Code Execution Tool' to run the script.\"\n",
        "        \"\\n\\nThe test case within the script should use the same 4x4 distance matrix as our previous tasks. \"\n",
        "        \"The optimal solution for that matrix has a total distance of 80.\"\n",
        "        \"\\n\\nYour task is to verify that the script's output contains the line 'Total Distance: 80'. \"\n",
        "        \"The path may be '[0, 1, 3, 2, 0]' or '[0, 2, 3, 1, 0]', but the distance is the critical part.\"\n",
        "        \"\\n\\nIf the code runs and the distance is correct, your final answer is the code itself with a confirmation. \"\n",
        "        \"If there is any error or the distance is not 80, delegate back to the developer with a report.\"\n",
        "    ),\n",
        "    expected_output=\"The final, correct Python code along with the confirmation 'Code is tested and works perfectly with an optimal distance of 80.' OR a detailed error/discrepancy report for the developer.\",\n",
        "    agent=tester,\n",
        "    context=[coding_task] # The testing task depends on the coding task\n",
        ")"
      ],
      "metadata": {
        "id": "RV1c8RwIBLkj"
      },
      "execution_count": null,
      "outputs": []
    },
    {
      "cell_type": "markdown",
      "source": [
        "## 3. Create the Crew and Kick Off the Task\n",
        "\n",
        "Finally, we assemble the agents and tasks into a Crew. We use the sequential process, and crewAI's internal delegation mechanism will handle the back-and-forth between the agents until the testing_task is completed successfully."
      ],
      "metadata": {
        "id": "AuGFPgwiBOTP"
      }
    },
    {
      "cell_type": "code",
      "source": [
        "# Create the crew with a sequential process\n",
        "code_crew = Crew(\n",
        "    agents=[developer, tester],\n",
        "    tasks=[coding_task, testing_task],\n",
        "    process=Process.sequential,\n",
        "    verbose=True # Set to 2 for detailed logging of the process\n",
        ")\n",
        "\n",
        "# Kick off the crew's work 🚀\n",
        "result = code_crew.kickoff()\n",
        "\n",
        "# Print the final result\n",
        "print(\"\\n\\n########################\")\n",
        "print(\"## Crew Work Complete!\")\n",
        "print(\"########################\\n\")\n",
        "print(\"Final Result:\")\n",
        "print(result)"
      ],
      "metadata": {
        "id": "Ri-_o5flBahi"
      },
      "execution_count": null,
      "outputs": []
    }
  ]
}